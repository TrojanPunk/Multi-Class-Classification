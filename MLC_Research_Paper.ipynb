{
  "nbformat": 4,
  "nbformat_minor": 0,
  "metadata": {
    "colab": {
      "provenance": [],
      "gpuType": "T4"
    },
    "kernelspec": {
      "name": "python3",
      "display_name": "Python 3"
    },
    "language_info": {
      "name": "python"
    },
    "accelerator": "GPU"
  },
  "cells": [
    {
      "cell_type": "markdown",
      "source": [
        "To run this properly, mount the Multi-Class-Classification folder to your drive and move into the directory using the below snippet:"
      ],
      "metadata": {
        "id": "UD27iO-VBJQy"
      }
    },
    {
      "cell_type": "code",
      "source": [
        "# %cd path/to/the/drive/folder/of/MLC "
      ],
      "metadata": {
        "id": "T1l9dPvjBejB"
      },
      "execution_count": null,
      "outputs": []
    },
    {
      "cell_type": "code",
      "source": [
        "import os\n",
        "  \n",
        "path = os.path.join(\"drive/MyDrive\", \"MLC\")\n",
        "os.mkdir(path)"
      ],
      "metadata": {
        "id": "brUQJd7EpOVe"
      },
      "execution_count": null,
      "outputs": []
    },
    {
      "cell_type": "code",
      "source": [
        "!git clone https://github.com/CR1502/Multi-Class-Classification.git"
      ],
      "metadata": {
        "colab": {
          "base_uri": "https://localhost:8080/"
        },
        "id": "w0NPEB-5p8XN",
        "outputId": "e93b7ac0-dd7e-498d-97c5-438a1738b9f5"
      },
      "execution_count": null,
      "outputs": [
        {
          "output_type": "stream",
          "name": "stdout",
          "text": [
            "Cloning into 'Multi-Class-Classification'...\n",
            "remote: Enumerating objects: 135, done.\u001b[K\n",
            "remote: Counting objects: 100% (135/135), done.\u001b[K\n",
            "remote: Compressing objects: 100% (102/102), done.\u001b[K\n",
            "remote: Total 135 (delta 48), reused 117 (delta 30), pack-reused 0\u001b[K\n",
            "Receiving objects: 100% (135/135), 1.01 MiB | 2.58 MiB/s, done.\n",
            "Resolving deltas: 100% (48/48), done.\n"
          ]
        }
      ]
    },
    {
      "cell_type": "code",
      "source": [
        "# Install before running\n",
        "! pip install scikit-multilearn"
      ],
      "metadata": {
        "id": "SNCQDsd09sBP"
      },
      "execution_count": null,
      "outputs": []
    },
    {
      "cell_type": "markdown",
      "source": [
        "# Previous MLC class\n",
        "##Changes:\n",
        "\n",
        "1. fit() method:\n",
        "\n",
        "  It calculates the number of labels **nLabels** in y and then computes the frequencies of each label using **y.mean(axis=0)**. The labels are sorted based on their frequencies, and the top **k** labels are selected and stored in labelsAssign attribute.\n",
        "\n",
        "\n",
        "2. predict() method:\n",
        "\n",
        "  It initializes a sparse matrix **prediction** with zeros of the appropriate shape. For each instance in **X**, it iterates over the **labelsAssign** list and checks if the corresponding feature value in X is greater than 0. If it is, the corresponding entry in prediction is set to 1. Finally, it returns the prediction matrix.\n",
        "\n",
        "3. predict_proba() method:\n",
        "\n",
        "  It returns the **probability estimates** instead of binary predictions. It initializes a sparse matrix called **probabilities** with zeros. It iterates over the **labelsAssign** list and assigns the corresponding feature value in X to the corresponding entry in probabilities. Finally, it returns the probabilities matrix."
      ],
      "metadata": {
        "id": "EBDCWwyb97nW"
      }
    },
    {
      "cell_type": "markdown",
      "source": [
        "# Do not run this, it is for your reference"
      ],
      "metadata": {
        "id": "VIHxsP8gBmUN"
      }
    },
    {
      "cell_type": "code",
      "source": [
        "# Program that create a classifier chain and perform multilabel classification.\n",
        "\n",
        "import pandas as pd\n",
        "import numpy as np\n",
        "from sklearn.model_selection import train_test_split\n",
        "from sklearn.ensemble import RandomForestClassifier\n",
        "from sklearn.metrics import accuracy_score\n",
        "from sklearn.utils import check_X_y, check_array\n",
        "from sklearn.utils.multiclass import unique_labels\n",
        "\n",
        "\n",
        "class ClassifierChain:\n",
        "    def __init__(self, base_classifier):\n",
        "        self.base_classifier = base_classifier\n",
        "        self.classifiers = []\n",
        "\n",
        "    def fit(self, X, y):\n",
        "        print(X.shape, y.shape)\n",
        "        X, y = check_X_y(X, y, accept_sparse=True)\n",
        "        self.classes_ = unique_labels(y)\n",
        "\n",
        "        for i in range(y.shape[1]):\n",
        "            classifier = self.base_classifier\n",
        "            classifier.fit(X, y[:, i])\n",
        "            self.classifiers.append(classifier)\n",
        "\n",
        "            # Augment feature matrix\n",
        "            X = np.concatenate((X, y[:, :i]), axis=1)\n",
        "\n",
        "    def predict(self, X):\n",
        "        X = check_array(X, accept_sparse=True)\n",
        "\n",
        "        Y_pred = np.zeros((X.shape[0], len(self.classes_)), dtype=int)\n",
        "        for i, classifier in enumerate(self.classifiers):\n",
        "            Y_pred[:, i] = classifier.predict(X)\n",
        "            X = np.concatenate((X, Y_pred[:, :i+1]), axis=1)\n",
        "\n",
        "        return Y_pred\n",
        "\n",
        "    def predict_proba(self, X):\n",
        "        X = check_array(X, accept_sparse=True)\n",
        "\n",
        "        Y_pred_proba = np.zeros((X.shape[0], len(self.classes_)), dtype=float)\n",
        "        for i, classifier in enumerate(self.classifiers):\n",
        "            Y_pred_proba[:, i] = classifier.predict_proba(X)[:, 1]\n",
        "            X = np.concatenate((X, Y_pred_proba[:, :i+1]), axis=1)\n",
        "\n",
        "        return Y_pred_proba\n",
        "\n",
        "\n",
        "# Load the emotions dataset from CSV\n",
        "emotions_data = pd.read_csv('emotions.csv')\n",
        "\n",
        "# Extract features (X) and labels (y)\n",
        "X = emotions_data.iloc[:, :-6].values\n",
        "y = emotions_data.iloc[:, -6:].values\n",
        "print(X,y)\n",
        "\n",
        "# Split the data into training and testing sets\n",
        "X_train, X_test, y_train, y_test = train_test_split(X, y, test_size=0.2, random_state=42)\n",
        "\n",
        "# Define the base classifier\n",
        "base_classifier = RandomForestClassifier()\n",
        "\n",
        "# Reshape y to match the number of samples\n",
        "y_train = np.reshape(y_train, (y_train.shape[0], -1))\n",
        "y_test = np.reshape(y_test, (y_test.shape[0], -1))\n",
        "\n",
        "# Build the classifier chain\n",
        "classifier_chain = ClassifierChain(base_classifier)\n",
        "\n",
        "# Train the classifier chain\n",
        "classifier_chain.fit(X_train, y_train)\n",
        "\n",
        "# Make predictions on the test set\n",
        "y_pred = classifier_chain.predict(X_test)\n",
        "\n",
        "# Calculate accuracy score\n",
        "accuracy = accuracy_score(y_test, y_pred)\n",
        "\n",
        "print(\"Accuracy:\", accuracy)\n"
      ],
      "metadata": {
        "id": "_l9xoSdQrLSo"
      },
      "execution_count": null,
      "outputs": []
    },
    {
      "cell_type": "markdown",
      "source": [
        "#Run this"
      ],
      "metadata": {
        "id": "ZbYS6lEEBiNl"
      }
    },
    {
      "cell_type": "code",
      "source": [
        "from skmultilearn.base import MLClassifierBase\n",
        "from scipy.sparse import lil_matrix\n",
        "import pandas as pd\n",
        "import numpy as np\n",
        "from sklearn.model_selection import train_test_split\n",
        "from sklearn.ensemble import RandomForestClassifier\n",
        "from sklearn.metrics import accuracy_score\n",
        "from sklearn.utils import check_X_y, check_array\n",
        "from sklearn.utils.multiclass import unique_labels\n",
        "\n",
        "class MLC(MLClassifierBase):\n",
        "\n",
        "    def __init__(self, k = None):\n",
        "        super(MLC, self).__init__()\n",
        "        self.k = k\n",
        "        self.copyableAttrs = ['k']\n",
        "\n",
        "    def fit(self, X, y):\n",
        "      self.nLabels = y.shape[1]\n",
        "      frequencies = y.mean(axis=0)\n",
        "      labelsSortedByFrequency = sorted(range(y.shape[1]), key=lambda i: frequencies[i])\n",
        "      self.labelsAssign = labelsSortedByFrequency[:self.k]\n",
        "      print(self.nLabels, frequencies, labelsSortedByFrequency, self.labelsAssign)\n",
        "\n",
        "      return self\n",
        "\n",
        "    def predict(self, X):\n",
        "        prediction = lil_matrix(np.zeros(shape=(X.shape[0], self.nLabels), dtype=int))\n",
        "        for i in range(X.shape[0]):\n",
        "            for j in self.labelsAssign:\n",
        "                if X[i, j] > 0:\n",
        "                    prediction[i, j] = 1\n",
        "\n",
        "        return prediction\n",
        "\n",
        "    def predict_proba(self, X):\n",
        "        probabilities = lil_matrix(np.zeros(shape=(X.shape[0], self.nLabels), dtype=float))\n",
        "        for i in range(X.shape[0]):\n",
        "            for j in self.labelsAssign:\n",
        "                probabilities[i, j] = X[i, j]\n",
        "\n",
        "        return probabilities\n",
        "\n",
        "# Load the emotions dataset from CSV\n",
        "df = pd.read_csv('yeast.csv')\n",
        "\n",
        "# Extract features (X) and labels (y)\n",
        "X = df.iloc[:, :-6].values\n",
        "y = df.iloc[:, -6:].values\n",
        "\n",
        "# Split the data into training and testing sets\n",
        "X_train, X_test, y_train, y_test = train_test_split(X, y, test_size=0.2, random_state=42)\n",
        "\n",
        "# Define the base classifier\n",
        "clf = RandomForestClassifier()\n",
        "clf.fit(X_train, y_train)\n",
        "prediction = clf.predict(X_test)\n",
        "\n",
        "# Estimating the Accuracy Score\n",
        "accuracy_score(y_test, prediction)\n",
        "print('Accuracy:', accuracy_score(y_test, prediction))\n"
      ],
      "metadata": {
        "id": "Ra0gVEPMswae",
        "colab": {
          "base_uri": "https://localhost:8080/"
        },
        "outputId": "21d04a7f-6f0f-4db1-ed7e-31a70d3e5910"
      },
      "execution_count": 28,
      "outputs": [
        {
          "output_type": "stream",
          "name": "stdout",
          "text": [
            "Accuracy: 0.6053719008264463\n"
          ]
        }
      ]
    },
    {
      "cell_type": "code",
      "source": [],
      "metadata": {
        "id": "miCU4BG0-eA9"
      },
      "execution_count": null,
      "outputs": []
    }
  ]
}